{
 "cells": [
  {
   "cell_type": "code",
   "execution_count": 1,
   "metadata": {
    "collapsed": true
   },
   "outputs": [],
   "source": [
    "import numpy as np\n",
    "import matplotlib.pyplot as plt\n",
    "import gym \n",
    "import math\n",
    "import time"
   ]
  },
  {
   "cell_type": "code",
   "execution_count": 2,
   "metadata": {
    "collapsed": true
   },
   "outputs": [],
   "source": [
    "env = gym.make('CartPole-v0')\n",
    "NUM_ACTIONS = env.action_space.n"
   ]
  },
  {
   "cell_type": "code",
   "execution_count": 3,
   "metadata": {
    "collapsed": true
   },
   "outputs": [],
   "source": [
    "TIME_STEP = 200\n",
    "\n",
    "NUM_BUCKET = [5,5,10,12]\n",
    "EPS = 0.3\n",
    "\n",
    "STATE_BOUND = np.zeros([4,2])\n",
    "for i in range(4):\n",
    "    STATE_BOUND[i] = np.array([env.observation_space.low[i], env.observation_space.high[i]])\n",
    "STATE_BOUND[1] = np.array([-0.5, 0.5])\n",
    "STATE_BOUND[3] = np.array([-math.radians(50), math.radians(50)])"
   ]
  },
  {
   "cell_type": "code",
   "execution_count": 4,
   "metadata": {
    "collapsed": true
   },
   "outputs": [],
   "source": [
    "def select_action(state,q,eps):\n",
    "    if np.random.uniform(low=0,high=1.0)<eps:\n",
    "        return env.action_space.sample()\n",
    "    else :\n",
    "        return np.argmax(q[state])"
   ]
  },
  {
   "cell_type": "code",
   "execution_count": 50,
   "metadata": {
    "collapsed": true
   },
   "outputs": [],
   "source": [
    "def state_norm(obv):\n",
    "    state = np.zeros([4,])\n",
    "    state = obv \n",
    "    for i in range(4):\n",
    "        if obv[i]<=STATE_BOUND[i][0]:\n",
    "            state[i] = STATE_BOUND[i][0]\n",
    "        elif obv[i]>=STATE_BOUND[i][1]:\n",
    "            state[i] = STATE_BOUND[i][1]\n",
    "    #state = state.astype(int)\n",
    "    return totuple(state)"
   ]
  },
  {
   "cell_type": "code",
   "execution_count": 51,
   "metadata": {
    "collapsed": true
   },
   "outputs": [],
   "source": [
    "def totuple(a):\n",
    "    try:\n",
    "        return tuple(totuple(i) for i in a)\n",
    "    except TypeError:\n",
    "        return a"
   ]
  },
  {
   "cell_type": "code",
   "execution_count": 62,
   "metadata": {
    "collapsed": true
   },
   "outputs": [],
   "source": [
    "def episode(param,dis=0,eps=0):\n",
    "    obv = env.reset()\n",
    "    state_in = state_norm(obv)\n",
    "    total = 0\n",
    "    ac = 0\n",
    "    for t in range(250):\n",
    "        if dis :\n",
    "            env.render()\n",
    "        dc = np.matmul(state_in,param)\n",
    "        #print(t,\" \",state_in,\" \",dc)\n",
    "        if np.random.uniform(0,1)<eps:\n",
    "            ac = env.action_space.sample()\n",
    "        else :\n",
    "            if dc>0:\n",
    "                ac = 1 \n",
    "            else:\n",
    "                ac = 0\n",
    "        obv,rew,done,_ = env.step(ac)\n",
    "        #print(obv)\n",
    "        total = total + 1\n",
    "        state = state_norm(obv)\n",
    "        #print(\"state \",state)\n",
    "        state_in = state\n",
    "        if done:\n",
    "            if dis :\n",
    "                print(\"episode ended with \",t+1,\" steps\")\n",
    "            break\n",
    "    return total"
   ]
  },
  {
   "cell_type": "code",
   "execution_count": 63,
   "metadata": {
    "collapsed": true
   },
   "outputs": [],
   "source": [
    "def v_update(pvel,pbest,gbest,param,w=.75,c1=.75,c2=.75):\n",
    "    return w*pvel + c1*np.random.uniform(0,.1)*(pbest-param) + c2*np.random.uniform(0,.1)*(gbest-param)"
   ]
  },
  {
   "cell_type": "code",
   "execution_count": 64,
   "metadata": {
    "collapsed": true
   },
   "outputs": [],
   "source": [
    "def PSO(nparams=20,nIter=500):\n",
    "    params = []\n",
    "    best_params = []\n",
    "    pbests = []\n",
    "    vel = []\n",
    "    gbest = np.zeros([4,])\n",
    "    gbest_r = 0\n",
    "    for i in range(nparams):\n",
    "        params.append(np.random.uniform(-5,5,4))\n",
    "        best_params.append(np.array([0,0,0,0]))\n",
    "        pbests.append(0)\n",
    "        vel.append(np.random.uniform(0,0,4))\n",
    "    for ep in range(nIter):\n",
    "        for i in range(nparams):\n",
    "            c_rew = episode(params[i])\n",
    "            if c_rew > pbests[i]:\n",
    "                pbests[i] = c_rew\n",
    "                best_params[i] = params[i]\n",
    "        gbest = best_params[np.argmax(np.array(pbests))]\n",
    "        gbest_r = np.max(np.array(pbests))\n",
    "        \n",
    "        if (ep+1)%50==0:\n",
    "            print(\"ep = \",ep+1,\" time : \",gbest_r)\n",
    "        \n",
    "        for i in range(nparams):\n",
    "            vel[i] = v_update(vel[i],best_params[i],gbest,params[i])\n",
    "            params[i] = params[i] + vel[i]\n",
    "    return params,best_params,gbest"
   ]
  },
  {
   "cell_type": "code",
   "execution_count": 66,
   "metadata": {},
   "outputs": [
    {
     "name": "stdout",
     "output_type": "stream",
     "text": [
      "ep =  50  time :  200\n",
      "ep =  100  time :  200\n",
      "ep =  150  time :  200\n",
      "ep =  200  time :  200\n",
      "ep =  250  time :  200\n",
      "ep =  300  time :  200\n",
      "ep =  350  time :  200\n",
      "ep =  400  time :  200\n",
      "ep =  450  time :  200\n",
      "ep =  500  time :  200\n"
     ]
    }
   ],
   "source": [
    "params,best_params,gbest = PSO()"
   ]
  },
  {
   "cell_type": "code",
   "execution_count": 74,
   "metadata": {
    "scrolled": true
   },
   "outputs": [
    {
     "name": "stdout",
     "output_type": "stream",
     "text": [
      "episode ended with  200  steps\n",
      "episode ended with  200  steps\n",
      "episode ended with  200  steps\n",
      "episode ended with  200  steps\n",
      "episode ended with  200  steps\n",
      "episode ended with  200  steps\n",
      "episode ended with  200  steps\n",
      "episode ended with  200  steps\n",
      "episode ended with  200  steps\n",
      "episode ended with  200  steps\n"
     ]
    }
   ],
   "source": [
    "for ep in range(10):\n",
    "    episode(gbest,1,0)\n",
    "env.render(close=True)"
   ]
  },
  {
   "cell_type": "code",
   "execution_count": 72,
   "metadata": {
    "collapsed": true
   },
   "outputs": [],
   "source": [
    "np.save('CartPole_PSO_gbest.npy',gbest)"
   ]
  },
  {
   "cell_type": "code",
   "execution_count": null,
   "metadata": {
    "collapsed": true
   },
   "outputs": [],
   "source": []
  }
 ],
 "metadata": {
  "kernelspec": {
   "display_name": "Python 3",
   "language": "python",
   "name": "python3"
  },
  "language_info": {
   "codemirror_mode": {
    "name": "ipython",
    "version": 3
   },
   "file_extension": ".py",
   "mimetype": "text/x-python",
   "name": "python",
   "nbconvert_exporter": "python",
   "pygments_lexer": "ipython3",
   "version": "3.6.1"
  }
 },
 "nbformat": 4,
 "nbformat_minor": 2
}
