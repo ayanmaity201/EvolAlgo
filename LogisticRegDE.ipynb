{
  "cells": [
    {
      "metadata": {
        "_uuid": "a650375d15c7df1f3ba4f6835845bca872f33585",
        "_cell_guid": "f38d9cd0-3ef8-46e8-aa99-6a2c9a81b367",
        "collapsed": true,
        "trusted": true
      },
      "cell_type": "code",
      "source": "import numpy as np\nimport matplotlib.pyplot as plt ",
      "execution_count": 1,
      "outputs": []
    },
    {
      "metadata": {
        "_uuid": "64c0bf7f67dabd5f9484db78284b64c1a68f3100",
        "_cell_guid": "1b6e60a2-36da-464a-b2ef-5cee960817d7",
        "collapsed": true,
        "trusted": true
      },
      "cell_type": "code",
      "source": "def create_data(n_points=100,mean_0=[15,45],mean_1=[35,40],cov=[[20,0],[0,20]]):\n    x_0 = np.zeros([n_points,2])\n    x_1 = np.zeros([n_points,2])\n    x_0 = np.random.multivariate_normal(mean_0,cov,n_points)\n    x_1 = np.random.multivariate_normal(mean_1,cov,n_points)\n    y_0 = np.zeros([n_points,1])\n    y_1 = np.zeros([n_points,1])+1\n    return x_0,y_0,x_1,y_1",
      "execution_count": 16,
      "outputs": []
    },
    {
      "metadata": {
        "_uuid": "6c6a866dfd622965cd0c918a2465610b65676ad3",
        "_cell_guid": "dabcdb5a-7ca7-4426-bc6e-380cca432fe1",
        "scrolled": true,
        "trusted": true
      },
      "cell_type": "code",
      "source": "x_0,y_0,x_1,y_1 = create_data()\naxes = plt.gca()\naxes.set_xlim([0,100]) \naxes.set_ylim([0,100]) \nplt.scatter(x_0[:,0],x_0[:,1])\nplt.scatter(x_1[:,0],x_1[:,1])",
      "execution_count": 21,
      "outputs": [
        {
          "output_type": "execute_result",
          "execution_count": 21,
          "data": {
            "text/plain": "<matplotlib.collections.PathCollection at 0x7f5f2ae5de80>"
          },
          "metadata": {}
        },
        {
          "output_type": "display_data",
          "data": {
            "text/plain": "<matplotlib.figure.Figure at 0x7f5f2b07be10>",
            "image/png": "[encoded data removed]"
          },
          "metadata": {}
        }
      ]
    },
    {
      "metadata": {
        "_uuid": "b444a25fd740100e00d80cab0d7b0548a5bde571",
        "_cell_guid": "f88023db-69ee-4fca-ad42-51ffb7fef319",
        "trusted": true
      },
      "cell_type": "code",
      "source": "train_x = np.append(x_0,x_1,axis=0).T\ntrain_x = np.append(train_x,np.zeros([1,train_x.shape[1]])+1,axis=0)\ntrain_y = np.append(y_0,y_1,axis=0)\ntrain_x.shape,train_y.shape",
      "execution_count": 22,
      "outputs": [
        {
          "output_type": "execute_result",
          "execution_count": 22,
          "data": {
            "text/plain": "((3, 200), (200, 1))"
          },
          "metadata": {}
        }
      ]
    },
    {
      "metadata": {
        "_uuid": "6b41495b7bdd2ae446b2779b511f9d0cd0704633",
        "_cell_guid": "010e608d-8b48-47b0-b193-2ec58a276cee",
        "collapsed": true,
        "trusted": true
      },
      "cell_type": "code",
      "source": "def sigmoid(x):\n    z = 1/(1+np.exp(-x))\n    return z",
      "execution_count": 5,
      "outputs": []
    },
    {
      "metadata": {
        "_uuid": "4d99ae0b25db56da1aba353c8e7d0834047439ae",
        "_cell_guid": "5feff4a1-a36f-46ac-be61-5091c20bbb4f",
        "collapsed": true,
        "trusted": true
      },
      "cell_type": "code",
      "source": "def forward(train_x,w):\n    w_new = np.copy(w)\n    w_new = w_new.reshape((1,w.shape[0]))\n    y = w_new.dot(train_x)\n    return sigmoid(y.T)",
      "execution_count": 6,
      "outputs": []
    },
    {
      "metadata": {
        "_uuid": "c91bbd02adaf9808cc64f16e852827de59865eea",
        "_cell_guid": "4da38e86-1878-4aa2-ae1f-df28c098f098",
        "collapsed": true,
        "trusted": true
      },
      "cell_type": "code",
      "source": "def Func(train_x,w,train_y):\n    #yhat = np.squeeze(forward(train_x,w,b))\n    m = train_x.shape[1]\n    yhat = forward(train_x,w)\n    #cost = -1*np.sum(train_y*np.log(yhat)+(1-train_y)*np.log(1-yhat))/m\n    cost = np.sum((train_y-yhat)*(train_y-yhat))/m\n    return cost",
      "execution_count": 7,
      "outputs": []
    },
    {
      "metadata": {
        "_uuid": "1919e58d03e77b848f83ee45f9313ea6487c682d",
        "_cell_guid": "afb955e6-5f73-4037-84d3-47212773a791",
        "collapsed": true,
        "trusted": true
      },
      "cell_type": "code",
      "source": "def init(num=50,param=2,xu=100,xl=0):\n    X_init = np.random.uniform(xl,xu,(num,param))\n    return X_init\ndef crossover(X,F,xu,xl):\n    num = X.shape[0]\n    param = X.shape[1]\n    V = np.zeros([num,param])\n    r = np.random.randint(0,num,size=(num,3))\n    for i in range(num):\n        V[i,:] = X[r[i,0],:] + F*(X[r[i,1],:]-X[r[i,2],:])\n    \n    V[V>xu] = xu\n    V[V<xl] = xl\n    return V\ndef mutate(X,V,C):\n    num = X.shape[0]\n    param = X.shape[1]\n    \n    U = np.zeros([num,param])\n    for i in range(num):\n        jrand = np.random.randint(0,param,size=1)\n        for j in range(param):\n            ran = np.random.rand()\n            if ran<C :\n                U[i,j] = V[i,j]\n            else:\n                U[i,j] = X[i,j]\n    return U\ndef update(X,U):\n    X_new = np.copy(X)\n    num = X_new.shape[0]\n    for i in range(num):\n        if Func(train_x,X[i,:],train_y)>Func(train_x,U[i,:],train_y) :\n        #if ackley(X[i,:])>ackley(U[i,:]) :\n            X_new[i,:] = U[i,:]\n    return X_new\n",
      "execution_count": 8,
      "outputs": []
    },
    {
      "metadata": {
        "_uuid": "256ada28d061ebfb96a37bc53c49d35197c08a08",
        "_cell_guid": "8485551f-ef3f-4ff3-ae5d-5b489750ae3e",
        "trusted": true
      },
      "cell_type": "code",
      "source": "W_init = init(num=50,param=3,xu=25,xl=-25)\nW = np.copy(W_init)\nw_hist = []\nfor t in range(700):\n    V = crossover(W,F=1.5,xu=25,xl=-25)\n    U = mutate(W,V,C=.7)\n    W = update(W,U)\n    w_hist.append(W)",
      "execution_count": 23,
      "outputs": [
        {
          "output_type": "stream",
          "text": "/opt/conda/lib/python3.6/site-packages/ipykernel_launcher.py:2: RuntimeWarning: overflow encountered in exp\n  \n",
          "name": "stderr"
        }
      ]
    },
    {
      "metadata": {
        "_uuid": "46a17b985507a9b08058850310b4afd8da5cbe82",
        "_cell_guid": "a7487434-6cab-42d7-bfde-5b3e774263a4",
        "trusted": true
      },
      "cell_type": "code",
      "source": "plt.subplot(121)\nplt.scatter(W_init[:,0],W_init[:,1])\nplt.subplot(122)\nplt.scatter(W[:,0],W[:,1])\nplt.show()",
      "execution_count": 26,
      "outputs": [
        {
          "output_type": "display_data",
          "data": {
            "text/plain": "<matplotlib.figure.Figure at 0x7f5f2adc1f60>",
            "image/png": "[encoded data removed]"
          },
          "metadata": {}
        }
      ]
    },
    {
      "metadata": {
        "_uuid": "7b41ccfc8dc87335cc53de8c80a970e62b8076a6",
        "_cell_guid": "cde58f41-3da7-44e6-b96f-933ce212ab7f",
        "trusted": true
      },
      "cell_type": "code",
      "source": "y_pred = -(W[0,0]*np.arange(0,100,1)+W[0,2])/W[0,1]\naxes = plt.gca()\naxes.set_xlim([0,100]) \naxes.set_ylim([0,100]) \nplt.scatter(x_0[:,0],x_0[:,1])\nplt.scatter(x_1[:,0],x_1[:,1])\nplt.plot(np.arange(0,100,1),y_pred,color='r')",
      "execution_count": 27,
      "outputs": [
        {
          "output_type": "execute_result",
          "execution_count": 27,
          "data": {
            "text/plain": "[<matplotlib.lines.Line2D at 0x7f5f2ac61b70>]"
          },
          "metadata": {}
        },
        {
          "output_type": "display_data",
          "data": {
            "text/plain": "<matplotlib.figure.Figure at 0x7f5f2acce470>",
            "image/png": "[encoded data removed]"
          },
          "metadata": {}
        }
      ]
    },
    {
      "metadata": {
        "_uuid": "e8f66644dc771a9cdbcd19a9b5654698dd88d27b",
        "_cell_guid": "512e22f0-97cf-41d2-96f1-de5aec59b13c",
        "collapsed": true,
        "trusted": false
      },
      "cell_type": "code",
      "source": "",
      "execution_count": null,
      "outputs": []
    }
  ],
  "metadata": {
    "language_info": {
      "name": "python",
      "version": "3.6.4",
      "mimetype": "text/x-python",
      "codemirror_mode": {
        "name": "ipython",
        "version": 3
      },
      "pygments_lexer": "ipython3",
      "nbconvert_exporter": "python",
      "file_extension": ".py"
    },
    "kernelspec": {
      "display_name": "Python 3",
      "language": "python",
      "name": "python3"
    }
  },
  "nbformat": 4,
  "nbformat_minor": 1
}