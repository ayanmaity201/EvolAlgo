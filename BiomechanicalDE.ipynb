{
  "cells": [
    {
      "metadata": {
        "_cell_guid": "f38d9cd0-3ef8-46e8-aa99-6a2c9a81b367",
        "_uuid": "a650375d15c7df1f3ba4f6835845bca872f33585",
        "trusted": true
      },
      "cell_type": "code",
      "source": "import numpy as np\nimport pandas as pd\nimport matplotlib.pyplot as plt \ndf = pd.read_csv('../input/column_2C_weka.csv')\ndf.head()",
      "execution_count": 67,
      "outputs": [
        {
          "output_type": "execute_result",
          "execution_count": 67,
          "data": {
            "text/plain": "   pelvic_incidence  pelvic_tilt numeric  lumbar_lordosis_angle  sacral_slope  \\\n0         63.027818            22.552586              39.609117     40.475232   \n1         39.056951            10.060991              25.015378     28.995960   \n2         68.832021            22.218482              50.092194     46.613539   \n3         69.297008            24.652878              44.311238     44.644130   \n4         49.712859             9.652075              28.317406     40.060784   \n\n   pelvic_radius  degree_spondylolisthesis     class  \n0      98.672917                 -0.254400  Abnormal  \n1     114.405425                  4.564259  Abnormal  \n2     105.985135                 -3.530317  Abnormal  \n3     101.868495                 11.211523  Abnormal  \n4     108.168725                  7.918501  Abnormal  ",
            "text/html": "<div>\n<style scoped>\n    .dataframe tbody tr th:only-of-type {\n        vertical-align: middle;\n    }\n\n    .dataframe tbody tr th {\n        vertical-align: top;\n    }\n\n    .dataframe thead th {\n        text-align: right;\n    }\n</style>\n<table border=\"1\" class=\"dataframe\">\n  <thead>\n    <tr style=\"text-align: right;\">\n      <th></th>\n      <th>pelvic_incidence</th>\n      <th>pelvic_tilt numeric</th>\n      <th>lumbar_lordosis_angle</th>\n      <th>sacral_slope</th>\n      <th>pelvic_radius</th>\n      <th>degree_spondylolisthesis</th>\n      <th>class</th>\n    </tr>\n  </thead>\n  <tbody>\n    <tr>\n      <th>0</th>\n      <td>63.027818</td>\n      <td>22.552586</td>\n      <td>39.609117</td>\n      <td>40.475232</td>\n      <td>98.672917</td>\n      <td>-0.254400</td>\n      <td>Abnormal</td>\n    </tr>\n    <tr>\n      <th>1</th>\n      <td>39.056951</td>\n      <td>10.060991</td>\n      <td>25.015378</td>\n      <td>28.995960</td>\n      <td>114.405425</td>\n      <td>4.564259</td>\n      <td>Abnormal</td>\n    </tr>\n    <tr>\n      <th>2</th>\n      <td>68.832021</td>\n      <td>22.218482</td>\n      <td>50.092194</td>\n      <td>46.613539</td>\n      <td>105.985135</td>\n      <td>-3.530317</td>\n      <td>Abnormal</td>\n    </tr>\n    <tr>\n      <th>3</th>\n      <td>69.297008</td>\n      <td>24.652878</td>\n      <td>44.311238</td>\n      <td>44.644130</td>\n      <td>101.868495</td>\n      <td>11.211523</td>\n      <td>Abnormal</td>\n    </tr>\n    <tr>\n      <th>4</th>\n      <td>49.712859</td>\n      <td>9.652075</td>\n      <td>28.317406</td>\n      <td>40.060784</td>\n      <td>108.168725</td>\n      <td>7.918501</td>\n      <td>Abnormal</td>\n    </tr>\n  </tbody>\n</table>\n</div>"
          },
          "metadata": {}
        }
      ]
    },
    {
      "metadata": {
        "_cell_guid": "e02987e0-3ca7-4a14-b282-c98292c7e3f3",
        "_uuid": "6a695b0bb7a2d6be8b1343abe560233e5452a76c",
        "collapsed": true,
        "trusted": true
      },
      "cell_type": "code",
      "source": "df_new = df.copy() \ny_label = df['class'].values\ndf_new = df_new.drop(['class'],axis=1)\nraw_data = df_new.as_matrix()\nfrom sklearn.model_selection import train_test_split\nX_train, X_test, y_train, y_test = train_test_split(raw_data, y_label, test_size=0.20, random_state=42)",
      "execution_count": 68,
      "outputs": []
    },
    {
      "metadata": {
        "_cell_guid": "3eb8c790-8877-46b5-90d8-e23a07f20797",
        "_uuid": "e8a68517045daea68f19084aff0b8984937000af",
        "collapsed": true,
        "trusted": true
      },
      "cell_type": "code",
      "source": "X_train = X_train.T\nX_test = X_test.T\ny_train = y_train.reshape((y_train.shape[0],1))\ny_test = y_test.reshape((y_test.shape[0],1))",
      "execution_count": 69,
      "outputs": []
    },
    {
      "metadata": {
        "_cell_guid": "356ad54f-c110-4781-b54d-c3ec21dd8035",
        "_uuid": "f48a8b2655ef3167811cd86319ff0b8c4164e6d9",
        "trusted": true
      },
      "cell_type": "code",
      "source": "X_train = np.append(X_train,np.zeros([1,X_train.shape[1]])+1,axis=0)\nX_test = np.append(X_test,np.zeros([1,X_test.shape[1]])+1,axis=0)\nX_train.shape",
      "execution_count": 70,
      "outputs": [
        {
          "output_type": "execute_result",
          "execution_count": 70,
          "data": {
            "text/plain": "(7, 248)"
          },
          "metadata": {}
        }
      ]
    },
    {
      "metadata": {
        "_cell_guid": "d00d0d69-b879-4833-aa7a-9f3d9c625dfd",
        "_uuid": "8f07768e9e8df9a5a9cf86be9797204e843fd6e1",
        "trusted": true
      },
      "cell_type": "code",
      "source": "y_train[y_train=='Abnormal']=1\ny_train[y_train=='Normal']=0\ny_test[y_test=='Abnormal']=1\ny_test[y_test=='Normal']=0\ny_train.shape",
      "execution_count": 71,
      "outputs": [
        {
          "output_type": "execute_result",
          "execution_count": 71,
          "data": {
            "text/plain": "(248, 1)"
          },
          "metadata": {}
        }
      ]
    },
    {
      "metadata": {
        "_cell_guid": "010e608d-8b48-47b0-b193-2ec58a276cee",
        "_uuid": "6b41495b7bdd2ae446b2779b511f9d0cd0704633",
        "collapsed": true,
        "trusted": true
      },
      "cell_type": "code",
      "source": "def sigmoid(x):\n    z = 1/(1+np.exp(-x))\n    return z",
      "execution_count": 72,
      "outputs": []
    },
    {
      "metadata": {
        "_cell_guid": "5feff4a1-a36f-46ac-be61-5091c20bbb4f",
        "_uuid": "4d99ae0b25db56da1aba353c8e7d0834047439ae",
        "collapsed": true,
        "trusted": true
      },
      "cell_type": "code",
      "source": "def forward(train_x,w):\n    w_new = np.copy(w)\n    w_new = w_new.reshape((1,w.shape[0]))\n    y = w_new.dot(train_x)\n    return sigmoid(y.T)",
      "execution_count": 73,
      "outputs": []
    },
    {
      "metadata": {
        "_cell_guid": "58b11760-96cd-4a32-9210-53855e928ee5",
        "_uuid": "dfaa631b535a3c69a4f062f72915a64c96ff92a4",
        "collapsed": true,
        "trusted": true
      },
      "cell_type": "code",
      "source": "def computeCost(train_x,yhat,train_y):\n    #yhat = np.squeeze(forward(train_x,w,b))\n    m = train_x.shape[1]\n    cost = -1*np.sum(train_y*np.log(yhat)+(1-train_y)*np.log(1-yhat))/m\n    return cost",
      "execution_count": 74,
      "outputs": []
    },
    {
      "metadata": {
        "_cell_guid": "4da38e86-1878-4aa2-ae1f-df28c098f098",
        "_uuid": "c91bbd02adaf9808cc64f16e852827de59865eea",
        "collapsed": true,
        "trusted": true
      },
      "cell_type": "code",
      "source": "def Func(train_x,w,train_y):\n    #yhat = np.squeeze(forward(train_x,w,b))\n    m = train_x.shape[1]\n    yhat = forward(train_x,w)\n    #cost = -1*np.sum(train_y*np.log(yhat)+(1-train_y)*np.log(1-yhat))/m\n    cost = np.sum((train_y-yhat)*(train_y-yhat))/m\n    return cost",
      "execution_count": 75,
      "outputs": []
    },
    {
      "metadata": {
        "_cell_guid": "afb955e6-5f73-4037-84d3-47212773a791",
        "_uuid": "1919e58d03e77b848f83ee45f9313ea6487c682d",
        "collapsed": true,
        "trusted": true
      },
      "cell_type": "code",
      "source": "def init(num=50,param=2,xu=100,xl=0):\n    X_init = np.random.uniform(xl,xu,(num,param))\n    return X_init\ndef update_best(X,Func,train_x,train_y):\n    num = X.shape[0]\n    param = X.shape[1]\n    best = X[0,:]\n    for i in range(num):\n        if Func(train_x,X[i,:],train_y)<Func(train_x,best,train_y):\n            best = X[i,:]\n    return best\ndef crossover(X,F,xu,xl,Func,train_x,train_y):\n    num = X.shape[0]\n    param = X.shape[1]\n    V = np.zeros([num,param])\n    r = np.random.randint(0,num,size=(num,2))\n    best = update_best(X,Func,train_x,train_y)\n    for i in range(num):\n        V[i,:] = best + F*(X[r[i,0],:]-X[r[i,1],:])\n    \n    V[V>xu] = xu\n    V[V<xl] = xl\n    return V\ndef mutate(X,V,C):\n    num = X.shape[0]\n    param = X.shape[1]\n    \n    U = np.zeros([num,param])\n    for i in range(num):\n        jrand = np.random.randint(0,param,size=1)\n        for j in range(param):\n            ran = np.random.rand()\n            if ran<C :\n                U[i,j] = V[i,j]\n            else:\n                U[i,j] = X[i,j]\n    return U\ndef update(X,U,X_train,y_train):\n    X_new = np.copy(X)\n    num = X_new.shape[0]\n    for i in range(num):\n        if Func(X_train,X[i,:],y_train)>Func(X_train,U[i,:],y_train) :\n        #if ackley(X[i,:])>ackley(U[i,:]) :\n            X_new[i,:] = U[i,:]\n    return X_new\n",
      "execution_count": 103,
      "outputs": []
    },
    {
      "metadata": {
        "_cell_guid": "8485551f-ef3f-4ff3-ae5d-5b489750ae3e",
        "_uuid": "256ada28d061ebfb96a37bc53c49d35197c08a08",
        "trusted": true
      },
      "cell_type": "code",
      "source": "W_init = init(num=100,param=7,xu=5,xl=-5)\nW = np.copy(W_init)\nw_hist = []\nfor t in range(1500):\n    V = crossover(W,F=1.5,xu=5,xl=-5,Func=Func,train_x=X_train,train_y=y_train)\n    U = mutate(W,V,C=.9)\n    W = update(W,U,X_train,y_train)\n    w_hist.append(W)",
      "execution_count": 116,
      "outputs": [
        {
          "output_type": "stream",
          "text": "/opt/conda/lib/python3.6/site-packages/ipykernel_launcher.py:2: RuntimeWarning: overflow encountered in exp\n  \n",
          "name": "stderr"
        }
      ]
    },
    {
      "metadata": {
        "_cell_guid": "a7487434-6cab-42d7-bfde-5b3e774263a4",
        "_uuid": "46a17b985507a9b08058850310b4afd8da5cbe82",
        "trusted": true
      },
      "cell_type": "code",
      "source": "plt.subplot(121)\nplt.scatter(W_init[:,0],W_init[:,1])\nplt.subplot(122)\nplt.scatter(W[:,0],W[:,1])\nplt.show()",
      "execution_count": 117,
      "outputs": [
        {
          "output_type": "display_data",
          "data": {
            "text/plain": "<matplotlib.figure.Figure at 0x7f506cc19710>",
            "image/png": "[encoded data removed]"
          },
          "metadata": {}
        }
      ]
    },
    {
      "metadata": {
        "_cell_guid": "cde58f41-3da7-44e6-b96f-933ce212ab7f",
        "_uuid": "7b41ccfc8dc87335cc53de8c80a970e62b8076a6",
        "trusted": true
      },
      "cell_type": "code",
      "source": "y_pred = forward(X_train,W[0,:])\ny_pred[y_pred>0.5]=1\ny_pred[y_pred<=0.5]=0\nnp.sum(y_pred==y_train)/y_train.shape[0]",
      "execution_count": 118,
      "outputs": [
        {
          "output_type": "execute_result",
          "execution_count": 118,
          "data": {
            "text/plain": "0.8467741935483871"
          },
          "metadata": {}
        }
      ]
    },
    {
      "metadata": {
        "_cell_guid": "f292f60f-64fe-4802-9364-b9a54f9ce838",
        "_uuid": "363a7836f56dc13fe3588adf25492b0cb3892538",
        "trusted": true
      },
      "cell_type": "code",
      "source": "y_pred = forward(X_test,W[0,:])\ny_pred[y_pred>0.5]=1\ny_pred[y_pred<=0.5]=0\nnp.sum(y_pred==y_test)/y_test.shape[0]",
      "execution_count": 119,
      "outputs": [
        {
          "output_type": "execute_result",
          "execution_count": 119,
          "data": {
            "text/plain": "0.9032258064516129"
          },
          "metadata": {}
        }
      ]
    },
    {
      "metadata": {
        "trusted": true,
        "collapsed": true,
        "_uuid": "caa7aca5fb827bcf0f0baece90b35da0c120d759"
      },
      "cell_type": "code",
      "source": "",
      "execution_count": null,
      "outputs": []
    }
  ],
  "metadata": {
    "kernelspec": {
      "display_name": "Python 3",
      "language": "python",
      "name": "python3"
    },
    "language_info": {
      "name": "python",
      "version": "3.6.4",
      "mimetype": "text/x-python",
      "codemirror_mode": {
        "name": "ipython",
        "version": 3
      },
      "pygments_lexer": "ipython3",
      "nbconvert_exporter": "python",
      "file_extension": ".py"
    }
  },
  "nbformat": 4,
  "nbformat_minor": 1
}